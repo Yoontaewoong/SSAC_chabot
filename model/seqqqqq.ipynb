{
  "nbformat": 4,
  "nbformat_minor": 0,
  "metadata": {
    "colab": {
      "name": "seqqqqq.ipynb",
      "provenance": [],
      "machine_shape": "hm"
    },
    "kernelspec": {
      "name": "python3",
      "display_name": "Python 3"
    },
    "language_info": {
      "name": "python"
    },
    "accelerator": "GPU"
  },
  "cells": [
    {
      "cell_type": "code",
      "execution_count": null,
      "metadata": {
        "id": "mGLaNhHEjj9A"
      },
      "outputs": [],
      "source": [
        ""
      ]
    },
    {
      "cell_type": "code",
      "execution_count": 1,
      "metadata": {
        "colab": {
          "base_uri": "https://localhost:8080/"
        },
        "id": "Wj1B_M7jpL3B",
        "outputId": "e2f3aa30-4ba1-4037-8733-4a2565b05b6a"
      },
      "outputs": [
        {
          "output_type": "stream",
          "name": "stdout",
          "text": [
            "Drive already mounted at /content/drive; to attempt to forcibly remount, call drive.mount(\"/content/drive\", force_remount=True).\n"
          ]
        }
      ],
      "source": [
        "from google.colab import drive\n",
        "drive.mount('/content/drive')"
      ]
    },
    {
      "cell_type": "code",
      "source": [
        "import pandas as pd\n",
        "from tqdm import tqdm\n",
        "corpus = pd.read_csv('/content/drive/MyDrive/Colab Notebooks/ssac/nlp/data/음식점_train.csv')\n",
        "corpus"
      ],
      "metadata": {
        "colab": {
          "base_uri": "https://localhost:8080/",
          "height": 659
        },
        "id": "1EEuPq-Hpp3W",
        "outputId": "2919ea16-96fe-42a6-f3f5-c0a8110c23df"
      },
      "execution_count": 2,
      "outputs": [
        {
          "output_type": "execute_result",
          "data": {
            "text/plain": [
              "           IDX 발화자                               발화문 카테고리   QA번호 QA여부 감성  \\\n",
              "0            1   c             참치타다끼샐러드는 취소했었는데, 맞죠?  음식점  32365    q  m   \n",
              "1            2   s           네, 참치타다끼샐러드는 취소된 상태입니다.  음식점  32365    a  m   \n",
              "2            3   c  주문한 메뉴 취소할 때 주문서만 있으면 된다는 말씀이세요?  음식점  15016    q  m   \n",
              "3            4   s             네, 주문서만 있으면 취소 가능합니다.  음식점  15016    a  m   \n",
              "4            5   c             고객서비스가 엉망이군요. 그냥 갑니다.  음식점  62984    q  n   \n",
              "...        ...  ..                               ...  ...    ...  ... ..   \n",
              "290382  290383   s        성북동까지 지금 시간에는 40분 이상 걸립니다.  음식점  50614    a  m   \n",
              "290383  290384   c         짜장면 지금 주문하면 바로 배달 올 수 있죠?  음식점  18579    q  m   \n",
              "290384  290385   s            네, 지금 주문하시면 바로 배달 갑니다.  음식점  18579    a  m   \n",
              "290385  290386   c    롯데유치원에 피자 20판 보내야하는데 5시까지 될까요?  음식점  59570    q  m   \n",
              "290386  290387   s       네, 피자 20판 5시까지 보내드릴 수 있습니다.  음식점  59570    a  m   \n",
              "\n",
              "             인텐트   가격   수량   크기     장소   조직   사람   시간   날짜       상품명   상담번호  \\\n",
              "0       주문_취소_확인  NaN  NaN  NaN    NaN  NaN  NaN  NaN  NaN  참치타다끼샐러드  32365   \n",
              "1       주문_취소_확인  NaN  NaN  NaN    NaN  NaN  NaN  NaN  NaN  참치타다끼샐러드  32365   \n",
              "2       주문_취소_확인  NaN  NaN  NaN    NaN  NaN  NaN  NaN  NaN       NaN  15016   \n",
              "3       주문_취소_확인  NaN  NaN  NaN    NaN  NaN  NaN  NaN  NaN       NaN  15016   \n",
              "4       주문_취소_확인  NaN  NaN  NaN    NaN  NaN  NaN  NaN  NaN       NaN  62984   \n",
              "...          ...  ...  ...  ...    ...  ...  ...  ...  ...       ...    ...   \n",
              "290382  배송_날짜_요청  NaN  NaN  NaN    성북동  NaN  NaN  NaN  NaN       NaN  50614   \n",
              "290383  배송_날짜_요청  NaN  NaN  NaN    NaN  NaN  NaN  NaN  NaN       짜장면  18579   \n",
              "290384  배송_날짜_요청  NaN  NaN  NaN    NaN  NaN  NaN  NaN  NaN       NaN  18579   \n",
              "290385  배송_날짜_요청  NaN  NaN  NaN  롯데유치원  NaN  NaN   5시  NaN        피자  59570   \n",
              "290386  배송_날짜_요청  NaN  NaN  NaN    NaN  NaN  NaN   5시  NaN        피자  59570   \n",
              "\n",
              "        상담내순번  \n",
              "0           1  \n",
              "1           2  \n",
              "2           1  \n",
              "3           2  \n",
              "4           1  \n",
              "...       ...  \n",
              "290382      2  \n",
              "290383      1  \n",
              "290384      2  \n",
              "290385      1  \n",
              "290386      2  \n",
              "\n",
              "[290387 rows x 19 columns]"
            ],
            "text/html": [
              "\n",
              "  <div id=\"df-09983571-e047-415f-9c61-96a6bdc27d07\">\n",
              "    <div class=\"colab-df-container\">\n",
              "      <div>\n",
              "<style scoped>\n",
              "    .dataframe tbody tr th:only-of-type {\n",
              "        vertical-align: middle;\n",
              "    }\n",
              "\n",
              "    .dataframe tbody tr th {\n",
              "        vertical-align: top;\n",
              "    }\n",
              "\n",
              "    .dataframe thead th {\n",
              "        text-align: right;\n",
              "    }\n",
              "</style>\n",
              "<table border=\"1\" class=\"dataframe\">\n",
              "  <thead>\n",
              "    <tr style=\"text-align: right;\">\n",
              "      <th></th>\n",
              "      <th>IDX</th>\n",
              "      <th>발화자</th>\n",
              "      <th>발화문</th>\n",
              "      <th>카테고리</th>\n",
              "      <th>QA번호</th>\n",
              "      <th>QA여부</th>\n",
              "      <th>감성</th>\n",
              "      <th>인텐트</th>\n",
              "      <th>가격</th>\n",
              "      <th>수량</th>\n",
              "      <th>크기</th>\n",
              "      <th>장소</th>\n",
              "      <th>조직</th>\n",
              "      <th>사람</th>\n",
              "      <th>시간</th>\n",
              "      <th>날짜</th>\n",
              "      <th>상품명</th>\n",
              "      <th>상담번호</th>\n",
              "      <th>상담내순번</th>\n",
              "    </tr>\n",
              "  </thead>\n",
              "  <tbody>\n",
              "    <tr>\n",
              "      <th>0</th>\n",
              "      <td>1</td>\n",
              "      <td>c</td>\n",
              "      <td>참치타다끼샐러드는 취소했었는데, 맞죠?</td>\n",
              "      <td>음식점</td>\n",
              "      <td>32365</td>\n",
              "      <td>q</td>\n",
              "      <td>m</td>\n",
              "      <td>주문_취소_확인</td>\n",
              "      <td>NaN</td>\n",
              "      <td>NaN</td>\n",
              "      <td>NaN</td>\n",
              "      <td>NaN</td>\n",
              "      <td>NaN</td>\n",
              "      <td>NaN</td>\n",
              "      <td>NaN</td>\n",
              "      <td>NaN</td>\n",
              "      <td>참치타다끼샐러드</td>\n",
              "      <td>32365</td>\n",
              "      <td>1</td>\n",
              "    </tr>\n",
              "    <tr>\n",
              "      <th>1</th>\n",
              "      <td>2</td>\n",
              "      <td>s</td>\n",
              "      <td>네, 참치타다끼샐러드는 취소된 상태입니다.</td>\n",
              "      <td>음식점</td>\n",
              "      <td>32365</td>\n",
              "      <td>a</td>\n",
              "      <td>m</td>\n",
              "      <td>주문_취소_확인</td>\n",
              "      <td>NaN</td>\n",
              "      <td>NaN</td>\n",
              "      <td>NaN</td>\n",
              "      <td>NaN</td>\n",
              "      <td>NaN</td>\n",
              "      <td>NaN</td>\n",
              "      <td>NaN</td>\n",
              "      <td>NaN</td>\n",
              "      <td>참치타다끼샐러드</td>\n",
              "      <td>32365</td>\n",
              "      <td>2</td>\n",
              "    </tr>\n",
              "    <tr>\n",
              "      <th>2</th>\n",
              "      <td>3</td>\n",
              "      <td>c</td>\n",
              "      <td>주문한 메뉴 취소할 때 주문서만 있으면 된다는 말씀이세요?</td>\n",
              "      <td>음식점</td>\n",
              "      <td>15016</td>\n",
              "      <td>q</td>\n",
              "      <td>m</td>\n",
              "      <td>주문_취소_확인</td>\n",
              "      <td>NaN</td>\n",
              "      <td>NaN</td>\n",
              "      <td>NaN</td>\n",
              "      <td>NaN</td>\n",
              "      <td>NaN</td>\n",
              "      <td>NaN</td>\n",
              "      <td>NaN</td>\n",
              "      <td>NaN</td>\n",
              "      <td>NaN</td>\n",
              "      <td>15016</td>\n",
              "      <td>1</td>\n",
              "    </tr>\n",
              "    <tr>\n",
              "      <th>3</th>\n",
              "      <td>4</td>\n",
              "      <td>s</td>\n",
              "      <td>네, 주문서만 있으면 취소 가능합니다.</td>\n",
              "      <td>음식점</td>\n",
              "      <td>15016</td>\n",
              "      <td>a</td>\n",
              "      <td>m</td>\n",
              "      <td>주문_취소_확인</td>\n",
              "      <td>NaN</td>\n",
              "      <td>NaN</td>\n",
              "      <td>NaN</td>\n",
              "      <td>NaN</td>\n",
              "      <td>NaN</td>\n",
              "      <td>NaN</td>\n",
              "      <td>NaN</td>\n",
              "      <td>NaN</td>\n",
              "      <td>NaN</td>\n",
              "      <td>15016</td>\n",
              "      <td>2</td>\n",
              "    </tr>\n",
              "    <tr>\n",
              "      <th>4</th>\n",
              "      <td>5</td>\n",
              "      <td>c</td>\n",
              "      <td>고객서비스가 엉망이군요. 그냥 갑니다.</td>\n",
              "      <td>음식점</td>\n",
              "      <td>62984</td>\n",
              "      <td>q</td>\n",
              "      <td>n</td>\n",
              "      <td>주문_취소_확인</td>\n",
              "      <td>NaN</td>\n",
              "      <td>NaN</td>\n",
              "      <td>NaN</td>\n",
              "      <td>NaN</td>\n",
              "      <td>NaN</td>\n",
              "      <td>NaN</td>\n",
              "      <td>NaN</td>\n",
              "      <td>NaN</td>\n",
              "      <td>NaN</td>\n",
              "      <td>62984</td>\n",
              "      <td>1</td>\n",
              "    </tr>\n",
              "    <tr>\n",
              "      <th>...</th>\n",
              "      <td>...</td>\n",
              "      <td>...</td>\n",
              "      <td>...</td>\n",
              "      <td>...</td>\n",
              "      <td>...</td>\n",
              "      <td>...</td>\n",
              "      <td>...</td>\n",
              "      <td>...</td>\n",
              "      <td>...</td>\n",
              "      <td>...</td>\n",
              "      <td>...</td>\n",
              "      <td>...</td>\n",
              "      <td>...</td>\n",
              "      <td>...</td>\n",
              "      <td>...</td>\n",
              "      <td>...</td>\n",
              "      <td>...</td>\n",
              "      <td>...</td>\n",
              "      <td>...</td>\n",
              "    </tr>\n",
              "    <tr>\n",
              "      <th>290382</th>\n",
              "      <td>290383</td>\n",
              "      <td>s</td>\n",
              "      <td>성북동까지 지금 시간에는 40분 이상 걸립니다.</td>\n",
              "      <td>음식점</td>\n",
              "      <td>50614</td>\n",
              "      <td>a</td>\n",
              "      <td>m</td>\n",
              "      <td>배송_날짜_요청</td>\n",
              "      <td>NaN</td>\n",
              "      <td>NaN</td>\n",
              "      <td>NaN</td>\n",
              "      <td>성북동</td>\n",
              "      <td>NaN</td>\n",
              "      <td>NaN</td>\n",
              "      <td>NaN</td>\n",
              "      <td>NaN</td>\n",
              "      <td>NaN</td>\n",
              "      <td>50614</td>\n",
              "      <td>2</td>\n",
              "    </tr>\n",
              "    <tr>\n",
              "      <th>290383</th>\n",
              "      <td>290384</td>\n",
              "      <td>c</td>\n",
              "      <td>짜장면 지금 주문하면 바로 배달 올 수 있죠?</td>\n",
              "      <td>음식점</td>\n",
              "      <td>18579</td>\n",
              "      <td>q</td>\n",
              "      <td>m</td>\n",
              "      <td>배송_날짜_요청</td>\n",
              "      <td>NaN</td>\n",
              "      <td>NaN</td>\n",
              "      <td>NaN</td>\n",
              "      <td>NaN</td>\n",
              "      <td>NaN</td>\n",
              "      <td>NaN</td>\n",
              "      <td>NaN</td>\n",
              "      <td>NaN</td>\n",
              "      <td>짜장면</td>\n",
              "      <td>18579</td>\n",
              "      <td>1</td>\n",
              "    </tr>\n",
              "    <tr>\n",
              "      <th>290384</th>\n",
              "      <td>290385</td>\n",
              "      <td>s</td>\n",
              "      <td>네, 지금 주문하시면 바로 배달 갑니다.</td>\n",
              "      <td>음식점</td>\n",
              "      <td>18579</td>\n",
              "      <td>a</td>\n",
              "      <td>m</td>\n",
              "      <td>배송_날짜_요청</td>\n",
              "      <td>NaN</td>\n",
              "      <td>NaN</td>\n",
              "      <td>NaN</td>\n",
              "      <td>NaN</td>\n",
              "      <td>NaN</td>\n",
              "      <td>NaN</td>\n",
              "      <td>NaN</td>\n",
              "      <td>NaN</td>\n",
              "      <td>NaN</td>\n",
              "      <td>18579</td>\n",
              "      <td>2</td>\n",
              "    </tr>\n",
              "    <tr>\n",
              "      <th>290385</th>\n",
              "      <td>290386</td>\n",
              "      <td>c</td>\n",
              "      <td>롯데유치원에 피자 20판 보내야하는데 5시까지 될까요?</td>\n",
              "      <td>음식점</td>\n",
              "      <td>59570</td>\n",
              "      <td>q</td>\n",
              "      <td>m</td>\n",
              "      <td>배송_날짜_요청</td>\n",
              "      <td>NaN</td>\n",
              "      <td>NaN</td>\n",
              "      <td>NaN</td>\n",
              "      <td>롯데유치원</td>\n",
              "      <td>NaN</td>\n",
              "      <td>NaN</td>\n",
              "      <td>5시</td>\n",
              "      <td>NaN</td>\n",
              "      <td>피자</td>\n",
              "      <td>59570</td>\n",
              "      <td>1</td>\n",
              "    </tr>\n",
              "    <tr>\n",
              "      <th>290386</th>\n",
              "      <td>290387</td>\n",
              "      <td>s</td>\n",
              "      <td>네, 피자 20판 5시까지 보내드릴 수 있습니다.</td>\n",
              "      <td>음식점</td>\n",
              "      <td>59570</td>\n",
              "      <td>a</td>\n",
              "      <td>m</td>\n",
              "      <td>배송_날짜_요청</td>\n",
              "      <td>NaN</td>\n",
              "      <td>NaN</td>\n",
              "      <td>NaN</td>\n",
              "      <td>NaN</td>\n",
              "      <td>NaN</td>\n",
              "      <td>NaN</td>\n",
              "      <td>5시</td>\n",
              "      <td>NaN</td>\n",
              "      <td>피자</td>\n",
              "      <td>59570</td>\n",
              "      <td>2</td>\n",
              "    </tr>\n",
              "  </tbody>\n",
              "</table>\n",
              "<p>290387 rows × 19 columns</p>\n",
              "</div>\n",
              "      <button class=\"colab-df-convert\" onclick=\"convertToInteractive('df-09983571-e047-415f-9c61-96a6bdc27d07')\"\n",
              "              title=\"Convert this dataframe to an interactive table.\"\n",
              "              style=\"display:none;\">\n",
              "        \n",
              "  <svg xmlns=\"http://www.w3.org/2000/svg\" height=\"24px\"viewBox=\"0 0 24 24\"\n",
              "       width=\"24px\">\n",
              "    <path d=\"M0 0h24v24H0V0z\" fill=\"none\"/>\n",
              "    <path d=\"M18.56 5.44l.94 2.06.94-2.06 2.06-.94-2.06-.94-.94-2.06-.94 2.06-2.06.94zm-11 1L8.5 8.5l.94-2.06 2.06-.94-2.06-.94L8.5 2.5l-.94 2.06-2.06.94zm10 10l.94 2.06.94-2.06 2.06-.94-2.06-.94-.94-2.06-.94 2.06-2.06.94z\"/><path d=\"M17.41 7.96l-1.37-1.37c-.4-.4-.92-.59-1.43-.59-.52 0-1.04.2-1.43.59L10.3 9.45l-7.72 7.72c-.78.78-.78 2.05 0 2.83L4 21.41c.39.39.9.59 1.41.59.51 0 1.02-.2 1.41-.59l7.78-7.78 2.81-2.81c.8-.78.8-2.07 0-2.86zM5.41 20L4 18.59l7.72-7.72 1.47 1.35L5.41 20z\"/>\n",
              "  </svg>\n",
              "      </button>\n",
              "      \n",
              "  <style>\n",
              "    .colab-df-container {\n",
              "      display:flex;\n",
              "      flex-wrap:wrap;\n",
              "      gap: 12px;\n",
              "    }\n",
              "\n",
              "    .colab-df-convert {\n",
              "      background-color: #E8F0FE;\n",
              "      border: none;\n",
              "      border-radius: 50%;\n",
              "      cursor: pointer;\n",
              "      display: none;\n",
              "      fill: #1967D2;\n",
              "      height: 32px;\n",
              "      padding: 0 0 0 0;\n",
              "      width: 32px;\n",
              "    }\n",
              "\n",
              "    .colab-df-convert:hover {\n",
              "      background-color: #E2EBFA;\n",
              "      box-shadow: 0px 1px 2px rgba(60, 64, 67, 0.3), 0px 1px 3px 1px rgba(60, 64, 67, 0.15);\n",
              "      fill: #174EA6;\n",
              "    }\n",
              "\n",
              "    [theme=dark] .colab-df-convert {\n",
              "      background-color: #3B4455;\n",
              "      fill: #D2E3FC;\n",
              "    }\n",
              "\n",
              "    [theme=dark] .colab-df-convert:hover {\n",
              "      background-color: #434B5C;\n",
              "      box-shadow: 0px 1px 3px 1px rgba(0, 0, 0, 0.15);\n",
              "      filter: drop-shadow(0px 1px 2px rgba(0, 0, 0, 0.3));\n",
              "      fill: #FFFFFF;\n",
              "    }\n",
              "  </style>\n",
              "\n",
              "      <script>\n",
              "        const buttonEl =\n",
              "          document.querySelector('#df-09983571-e047-415f-9c61-96a6bdc27d07 button.colab-df-convert');\n",
              "        buttonEl.style.display =\n",
              "          google.colab.kernel.accessAllowed ? 'block' : 'none';\n",
              "\n",
              "        async function convertToInteractive(key) {\n",
              "          const element = document.querySelector('#df-09983571-e047-415f-9c61-96a6bdc27d07');\n",
              "          const dataTable =\n",
              "            await google.colab.kernel.invokeFunction('convertToInteractive',\n",
              "                                                     [key], {});\n",
              "          if (!dataTable) return;\n",
              "\n",
              "          const docLinkHtml = 'Like what you see? Visit the ' +\n",
              "            '<a target=\"_blank\" href=https://colab.research.google.com/notebooks/data_table.ipynb>data table notebook</a>'\n",
              "            + ' to learn more about interactive tables.';\n",
              "          element.innerHTML = '';\n",
              "          dataTable['output_type'] = 'display_data';\n",
              "          await google.colab.output.renderOutput(dataTable, element);\n",
              "          const docLink = document.createElement('div');\n",
              "          docLink.innerHTML = docLinkHtml;\n",
              "          element.appendChild(docLink);\n",
              "        }\n",
              "      </script>\n",
              "    </div>\n",
              "  </div>\n",
              "  "
            ]
          },
          "metadata": {},
          "execution_count": 2
        }
      ]
    },
    {
      "cell_type": "code",
      "source": [
        "Q = []\n",
        "A = []\n",
        "flag = 0\n",
        "for i in tqdm(range(len(corpus))):\n",
        "  if flag > i :\n",
        "    pass\n",
        "  else :\n",
        "    if corpus.iloc[i]['QA여부'] == 'q':\n",
        "      list_q = []\n",
        "      list_q.append(corpus.iloc[i]['발화문'])\n",
        "      for j in range(i+1, len(corpus)):\n",
        "        if corpus.iloc[j]['QA여부'] == 'a':\n",
        "          flag = j\n",
        "        if flag == j:\n",
        "          break\n",
        "        else : \n",
        "          list_q.append(corpus.iloc[j]['발화문'])\n",
        "      Q.append(' '.join(list_q))\n",
        "    else :\n",
        "      list_a = []\n",
        "      list_a.append(corpus.iloc[i]['발화문'])\n",
        "      for j in range(i+1, i+50):\n",
        "        try : \n",
        "          if corpus.iloc[j]['QA여부'] == 'q':\n",
        "            flag = j\n",
        "\n",
        "          if flag == j:\n",
        "            break\n",
        "          else : \n",
        "            list_a.append(corpus.iloc[j]['발화문'])\n",
        "        except :\n",
        "          pass\n",
        "      A.append(' '.join(list_a))"
      ],
      "metadata": {
        "colab": {
          "base_uri": "https://localhost:8080/"
        },
        "id": "BaOXtLvkqFfN",
        "outputId": "ed4d784c-ed0e-4a1f-ee3e-402eb36e7236"
      },
      "execution_count": 3,
      "outputs": [
        {
          "output_type": "stream",
          "name": "stderr",
          "text": [
            "100%|██████████| 290387/290387 [01:29<00:00, 3253.55it/s]\n"
          ]
        }
      ]
    },
    {
      "cell_type": "code",
      "source": [
        "corpus = pd.DataFrame({'Q':Q,\n",
        "                           'A':A})\n",
        "corpus"
      ],
      "metadata": {
        "colab": {
          "base_uri": "https://localhost:8080/",
          "height": 423
        },
        "id": "jSHXyhDpqH7H",
        "outputId": "9714cdd0-be40-4dab-d027-6c722f894308"
      },
      "execution_count": 4,
      "outputs": [
        {
          "output_type": "execute_result",
          "data": {
            "text/plain": [
              "                                                Q  \\\n",
              "0                           참치타다끼샐러드는 취소했었는데, 맞죠?   \n",
              "1                주문한 메뉴 취소할 때 주문서만 있으면 된다는 말씀이세요?   \n",
              "2                           고객서비스가 엉망이군요. 그냥 갑니다.   \n",
              "3                 방금 전에 홍합탕 주문한 거 지금 취소 가능한 거 맞죠?   \n",
              "4       매운무뼈닭발 롯데주유소로 주문한 거 아직 안받았는데, 취소해도 되는 거죠?   \n",
              "...                                           ...   \n",
              "119372      짜장면 12:30까지 배달되야 먹는데 그 시간까지 오실 수 있나요?   \n",
              "119373             후라이드 5마리 시킨 곳인데 배달 출발한 거 확실해요?   \n",
              "119374             성북동까지 치킨 배달시키면 얼마나 걸리는지 알려주세요.   \n",
              "119375                  짜장면 지금 주문하면 바로 배달 올 수 있죠?   \n",
              "119376             롯데유치원에 피자 20판 보내야하는데 5시까지 될까요?   \n",
              "\n",
              "                                       A  \n",
              "0                네, 참치타다끼샐러드는 취소된 상태입니다.  \n",
              "1                  네, 주문서만 있으면 취소 가능합니다.  \n",
              "2                원하시는 서비스를 제공하지못해 죄송합니다.  \n",
              "3       네, 주문하신 홍합탕은 아직 조리 전이라 취소 가능합니다.  \n",
              "4        아니요, 이미 접수 후 조리 시작하여 취소는 어렵습니다.  \n",
              "...                                  ...  \n",
              "119372            네, 말씀하신 시간까지 배달해 드릴게요.  \n",
              "119373     네, 배달 출발한 건지 알아 보고 연락 드리겠습니다.  \n",
              "119374        성북동까지 지금 시간에는 40분 이상 걸립니다.  \n",
              "119375            네, 지금 주문하시면 바로 배달 갑니다.  \n",
              "119376       네, 피자 20판 5시까지 보내드릴 수 있습니다.  \n",
              "\n",
              "[119377 rows x 2 columns]"
            ],
            "text/html": [
              "\n",
              "  <div id=\"df-2da029a5-26d2-4610-b8af-9c5dfaa55528\">\n",
              "    <div class=\"colab-df-container\">\n",
              "      <div>\n",
              "<style scoped>\n",
              "    .dataframe tbody tr th:only-of-type {\n",
              "        vertical-align: middle;\n",
              "    }\n",
              "\n",
              "    .dataframe tbody tr th {\n",
              "        vertical-align: top;\n",
              "    }\n",
              "\n",
              "    .dataframe thead th {\n",
              "        text-align: right;\n",
              "    }\n",
              "</style>\n",
              "<table border=\"1\" class=\"dataframe\">\n",
              "  <thead>\n",
              "    <tr style=\"text-align: right;\">\n",
              "      <th></th>\n",
              "      <th>Q</th>\n",
              "      <th>A</th>\n",
              "    </tr>\n",
              "  </thead>\n",
              "  <tbody>\n",
              "    <tr>\n",
              "      <th>0</th>\n",
              "      <td>참치타다끼샐러드는 취소했었는데, 맞죠?</td>\n",
              "      <td>네, 참치타다끼샐러드는 취소된 상태입니다.</td>\n",
              "    </tr>\n",
              "    <tr>\n",
              "      <th>1</th>\n",
              "      <td>주문한 메뉴 취소할 때 주문서만 있으면 된다는 말씀이세요?</td>\n",
              "      <td>네, 주문서만 있으면 취소 가능합니다.</td>\n",
              "    </tr>\n",
              "    <tr>\n",
              "      <th>2</th>\n",
              "      <td>고객서비스가 엉망이군요. 그냥 갑니다.</td>\n",
              "      <td>원하시는 서비스를 제공하지못해 죄송합니다.</td>\n",
              "    </tr>\n",
              "    <tr>\n",
              "      <th>3</th>\n",
              "      <td>방금 전에 홍합탕 주문한 거 지금 취소 가능한 거 맞죠?</td>\n",
              "      <td>네, 주문하신 홍합탕은 아직 조리 전이라 취소 가능합니다.</td>\n",
              "    </tr>\n",
              "    <tr>\n",
              "      <th>4</th>\n",
              "      <td>매운무뼈닭발 롯데주유소로 주문한 거 아직 안받았는데, 취소해도 되는 거죠?</td>\n",
              "      <td>아니요, 이미 접수 후 조리 시작하여 취소는 어렵습니다.</td>\n",
              "    </tr>\n",
              "    <tr>\n",
              "      <th>...</th>\n",
              "      <td>...</td>\n",
              "      <td>...</td>\n",
              "    </tr>\n",
              "    <tr>\n",
              "      <th>119372</th>\n",
              "      <td>짜장면 12:30까지 배달되야 먹는데 그 시간까지 오실 수 있나요?</td>\n",
              "      <td>네, 말씀하신 시간까지 배달해 드릴게요.</td>\n",
              "    </tr>\n",
              "    <tr>\n",
              "      <th>119373</th>\n",
              "      <td>후라이드 5마리 시킨 곳인데 배달 출발한 거 확실해요?</td>\n",
              "      <td>네, 배달 출발한 건지 알아 보고 연락 드리겠습니다.</td>\n",
              "    </tr>\n",
              "    <tr>\n",
              "      <th>119374</th>\n",
              "      <td>성북동까지 치킨 배달시키면 얼마나 걸리는지 알려주세요.</td>\n",
              "      <td>성북동까지 지금 시간에는 40분 이상 걸립니다.</td>\n",
              "    </tr>\n",
              "    <tr>\n",
              "      <th>119375</th>\n",
              "      <td>짜장면 지금 주문하면 바로 배달 올 수 있죠?</td>\n",
              "      <td>네, 지금 주문하시면 바로 배달 갑니다.</td>\n",
              "    </tr>\n",
              "    <tr>\n",
              "      <th>119376</th>\n",
              "      <td>롯데유치원에 피자 20판 보내야하는데 5시까지 될까요?</td>\n",
              "      <td>네, 피자 20판 5시까지 보내드릴 수 있습니다.</td>\n",
              "    </tr>\n",
              "  </tbody>\n",
              "</table>\n",
              "<p>119377 rows × 2 columns</p>\n",
              "</div>\n",
              "      <button class=\"colab-df-convert\" onclick=\"convertToInteractive('df-2da029a5-26d2-4610-b8af-9c5dfaa55528')\"\n",
              "              title=\"Convert this dataframe to an interactive table.\"\n",
              "              style=\"display:none;\">\n",
              "        \n",
              "  <svg xmlns=\"http://www.w3.org/2000/svg\" height=\"24px\"viewBox=\"0 0 24 24\"\n",
              "       width=\"24px\">\n",
              "    <path d=\"M0 0h24v24H0V0z\" fill=\"none\"/>\n",
              "    <path d=\"M18.56 5.44l.94 2.06.94-2.06 2.06-.94-2.06-.94-.94-2.06-.94 2.06-2.06.94zm-11 1L8.5 8.5l.94-2.06 2.06-.94-2.06-.94L8.5 2.5l-.94 2.06-2.06.94zm10 10l.94 2.06.94-2.06 2.06-.94-2.06-.94-.94-2.06-.94 2.06-2.06.94z\"/><path d=\"M17.41 7.96l-1.37-1.37c-.4-.4-.92-.59-1.43-.59-.52 0-1.04.2-1.43.59L10.3 9.45l-7.72 7.72c-.78.78-.78 2.05 0 2.83L4 21.41c.39.39.9.59 1.41.59.51 0 1.02-.2 1.41-.59l7.78-7.78 2.81-2.81c.8-.78.8-2.07 0-2.86zM5.41 20L4 18.59l7.72-7.72 1.47 1.35L5.41 20z\"/>\n",
              "  </svg>\n",
              "      </button>\n",
              "      \n",
              "  <style>\n",
              "    .colab-df-container {\n",
              "      display:flex;\n",
              "      flex-wrap:wrap;\n",
              "      gap: 12px;\n",
              "    }\n",
              "\n",
              "    .colab-df-convert {\n",
              "      background-color: #E8F0FE;\n",
              "      border: none;\n",
              "      border-radius: 50%;\n",
              "      cursor: pointer;\n",
              "      display: none;\n",
              "      fill: #1967D2;\n",
              "      height: 32px;\n",
              "      padding: 0 0 0 0;\n",
              "      width: 32px;\n",
              "    }\n",
              "\n",
              "    .colab-df-convert:hover {\n",
              "      background-color: #E2EBFA;\n",
              "      box-shadow: 0px 1px 2px rgba(60, 64, 67, 0.3), 0px 1px 3px 1px rgba(60, 64, 67, 0.15);\n",
              "      fill: #174EA6;\n",
              "    }\n",
              "\n",
              "    [theme=dark] .colab-df-convert {\n",
              "      background-color: #3B4455;\n",
              "      fill: #D2E3FC;\n",
              "    }\n",
              "\n",
              "    [theme=dark] .colab-df-convert:hover {\n",
              "      background-color: #434B5C;\n",
              "      box-shadow: 0px 1px 3px 1px rgba(0, 0, 0, 0.15);\n",
              "      filter: drop-shadow(0px 1px 2px rgba(0, 0, 0, 0.3));\n",
              "      fill: #FFFFFF;\n",
              "    }\n",
              "  </style>\n",
              "\n",
              "      <script>\n",
              "        const buttonEl =\n",
              "          document.querySelector('#df-2da029a5-26d2-4610-b8af-9c5dfaa55528 button.colab-df-convert');\n",
              "        buttonEl.style.display =\n",
              "          google.colab.kernel.accessAllowed ? 'block' : 'none';\n",
              "\n",
              "        async function convertToInteractive(key) {\n",
              "          const element = document.querySelector('#df-2da029a5-26d2-4610-b8af-9c5dfaa55528');\n",
              "          const dataTable =\n",
              "            await google.colab.kernel.invokeFunction('convertToInteractive',\n",
              "                                                     [key], {});\n",
              "          if (!dataTable) return;\n",
              "\n",
              "          const docLinkHtml = 'Like what you see? Visit the ' +\n",
              "            '<a target=\"_blank\" href=https://colab.research.google.com/notebooks/data_table.ipynb>data table notebook</a>'\n",
              "            + ' to learn more about interactive tables.';\n",
              "          element.innerHTML = '';\n",
              "          dataTable['output_type'] = 'display_data';\n",
              "          await google.colab.output.renderOutput(dataTable, element);\n",
              "          const docLink = document.createElement('div');\n",
              "          docLink.innerHTML = docLinkHtml;\n",
              "          element.appendChild(docLink);\n",
              "        }\n",
              "      </script>\n",
              "    </div>\n",
              "  </div>\n",
              "  "
            ]
          },
          "metadata": {},
          "execution_count": 4
        }
      ]
    },
    {
      "cell_type": "code",
      "source": [
        "corpus = corpus[corpus['A'] != '네'][corpus['A'] != '네.']"
      ],
      "metadata": {
        "colab": {
          "base_uri": "https://localhost:8080/"
        },
        "id": "LOjMJuclOvxl",
        "outputId": "4685af6c-888c-46e6-bfbf-f63bd60eb5fa"
      },
      "execution_count": 5,
      "outputs": [
        {
          "output_type": "stream",
          "name": "stderr",
          "text": [
            "/usr/local/lib/python3.7/dist-packages/ipykernel_launcher.py:1: UserWarning: Boolean Series key will be reindexed to match DataFrame index.\n",
            "  \"\"\"Entry point for launching an IPython kernel.\n"
          ]
        }
      ]
    },
    {
      "cell_type": "code",
      "source": [
        "from tensorflow import keras\n",
        "from keras import models\n",
        "from keras import layers\n",
        "from keras import optimizers, losses, metrics\n",
        "from keras import preprocessing\n",
        "\n",
        "import numpy as np\n",
        "import pandas as pd\n",
        "import matplotlib.pyplot as plt\n",
        "import pickle\n",
        "import os\n",
        "import re\n",
        "!pip install konlpy\n",
        "from konlpy.tag import Okt"
      ],
      "metadata": {
        "colab": {
          "base_uri": "https://localhost:8080/"
        },
        "id": "G9iy55dukZWa",
        "outputId": "8779be48-6775-4eb5-cfa7-c820ea27ca1c"
      },
      "execution_count": 6,
      "outputs": [
        {
          "output_type": "stream",
          "name": "stdout",
          "text": [
            "Requirement already satisfied: konlpy in /usr/local/lib/python3.7/dist-packages (0.6.0)\n",
            "Requirement already satisfied: numpy>=1.6 in /usr/local/lib/python3.7/dist-packages (from konlpy) (1.21.5)\n",
            "Requirement already satisfied: JPype1>=0.7.0 in /usr/local/lib/python3.7/dist-packages (from konlpy) (1.3.0)\n",
            "Requirement already satisfied: lxml>=4.1.0 in /usr/local/lib/python3.7/dist-packages (from konlpy) (4.2.6)\n",
            "Requirement already satisfied: typing-extensions in /usr/local/lib/python3.7/dist-packages (from JPype1>=0.7.0->konlpy) (3.10.0.2)\n"
          ]
        }
      ]
    },
    {
      "cell_type": "code",
      "source": [
        "# 태그 단어\n",
        "PAD = \"<PADDING>\"   # 패딩\n",
        "STA = \"<START>\"     # 시작\n",
        "END = \"<END>\"       # 끝\n",
        "OOV = \"<OOV>\"       # 없는 단어(Out of Vocabulary)\n",
        "\n",
        "# 태그 인덱스\n",
        "PAD_INDEX = 0\n",
        "STA_INDEX = 1\n",
        "END_INDEX = 2\n",
        "OOV_INDEX = 3\n",
        "\n",
        "# 데이터 타입\n",
        "ENCODER_INPUT  = 0\n",
        "DECODER_INPUT  = 1\n",
        "DECODER_TARGET = 2\n",
        "\n",
        "# 한 문장에서 단어 시퀀스의 최대 개수\n",
        "max_sequences = 30\n",
        "\n",
        "# 임베딩 벡터 차원\n",
        "embedding_dim = 100\n",
        "\n",
        "# LSTM 히든레이어 차원\n",
        "lstm_hidden_dim = 128\n",
        "\n",
        "# 정규 표현식 필터\n",
        "RE_FILTER = re.compile(\"[.,!?\\\"':;~()]\")\n",
        "\n",
        "# 챗봇 데이터 로드\n",
        "question, answer = list(corpus['Q']), list(corpus['A'])"
      ],
      "metadata": {
        "id": "khuKcpe-jvGU"
      },
      "execution_count": 7,
      "outputs": []
    },
    {
      "cell_type": "code",
      "source": [
        "# 데이터의 일부만 학습에 사용\n",
        "question = question[:5000]\n",
        "answer = answer[:5000]\n",
        "\n",
        "# 챗봇 데이터 출력\n",
        "for i in range(10):\n",
        "    print('Q : ' + question[i])\n",
        "    print('A : ' + answer[i])\n",
        "    print()"
      ],
      "metadata": {
        "colab": {
          "base_uri": "https://localhost:8080/"
        },
        "id": "APIEASv5kWvc",
        "outputId": "59caaf53-e3b2-404c-d022-98df50984e83"
      },
      "execution_count": 8,
      "outputs": [
        {
          "output_type": "stream",
          "name": "stdout",
          "text": [
            "Q : 참치타다끼샐러드는 취소했었는데, 맞죠?\n",
            "A : 네, 참치타다끼샐러드는 취소된 상태입니다.\n",
            "\n",
            "Q : 주문한 메뉴 취소할 때 주문서만 있으면 된다는 말씀이세요?\n",
            "A : 네, 주문서만 있으면 취소 가능합니다.\n",
            "\n",
            "Q : 고객서비스가 엉망이군요. 그냥 갑니다.\n",
            "A : 원하시는 서비스를 제공하지못해 죄송합니다.\n",
            "\n",
            "Q : 방금 전에 홍합탕 주문한 거 지금 취소 가능한 거 맞죠?\n",
            "A : 네, 주문하신 홍합탕은 아직 조리 전이라 취소 가능합니다.\n",
            "\n",
            "Q : 매운무뼈닭발 롯데주유소로 주문한 거 아직 안받았는데, 취소해도 되는 거죠?\n",
            "A : 아니요, 이미 접수 후 조리 시작하여 취소는 어렵습니다.\n",
            "\n",
            "Q : 주문한걸 취소하려면 주문서가 필요한거죠?\n",
            "A : 네, 맞습니다 주문서가 필요합니다. \n",
            "\n",
            "Q : 멸치볶음만 취소할 수 있죠?\n",
            "A : 네, 멸치볶음만 취소할 수 있습니다.\n",
            "\n",
            "Q : 롯데주유소로 매운무뼈닭발 주문한 거 아직 안받았는데, 취소해도 되는 거죠?\n",
            "A : 네, 현재 접수단계로 주문 취소 가능합니다.\n",
            "\n",
            "Q : 주문서만 있으면 취소가 된다는거에요?\n",
            "A : 네, 주문서만 있으면 취소가 됩니다.\n",
            "\n",
            "Q : 순두부백반 취소된 거 맞죠?\n",
            "A : 네, 순두부백반 취소되었습니다.\n",
            "\n"
          ]
        }
      ]
    },
    {
      "cell_type": "code",
      "source": [
        "# 형태소분석 함수\n",
        "def pos_tag(sentences):\n",
        "    \n",
        "    # KoNLPy 형태소분석기 설정\n",
        "    tagger = Okt()\n",
        "    \n",
        "    # 문장 품사 변수 초기화\n",
        "    sentences_pos = []\n",
        "    \n",
        "    # 모든 문장 반복\n",
        "    for sentence in sentences:\n",
        "        # 특수기호 제거\n",
        "        sentence = re.sub(RE_FILTER, \"\", sentence)\n",
        "        \n",
        "        # 배열인 형태소분석의 출력을 띄어쓰기로 구분하여 붙임\n",
        "        sentence = \" \".join(tagger.morphs(sentence))\n",
        "        sentences_pos.append(sentence)\n",
        "        \n",
        "    return sentences_pos"
      ],
      "metadata": {
        "id": "RDcfryIZkjdm"
      },
      "execution_count": 9,
      "outputs": []
    },
    {
      "cell_type": "code",
      "source": [
        "# 형태소분석 수행\n",
        "question = pos_tag(question)\n",
        "answer = pos_tag(answer)\n",
        "\n",
        "# 형태소분석으로 변환된 챗봇 데이터 출력\n",
        "for i in range(10):\n",
        "    print('Q : ' + question[i])\n",
        "    print('A : ' + answer[i])\n",
        "    print()"
      ],
      "metadata": {
        "colab": {
          "base_uri": "https://localhost:8080/"
        },
        "id": "yEAOGsWQklIk",
        "outputId": "94d6835c-89b6-4352-83c5-4c11618f92bc"
      },
      "execution_count": 10,
      "outputs": [
        {
          "output_type": "stream",
          "name": "stdout",
          "text": [
            "Q : 참치 타다 끼 샐러드 는 취소 했었는데 맞죠\n",
            "A : 네 참치 타다 끼 샐러드 는 취소 된 상태 입니다\n",
            "\n",
            "Q : 주문 한 메뉴 취소 할 때 주 문서 만 있으면 된다는 말씀 이세 요\n",
            "A : 네 주 문서 만 있으면 취소 가능합니다\n",
            "\n",
            "Q : 고객 서비스 가 엉망 이군 요 그냥 갑니다\n",
            "A : 원하시는 서비스 를 제공 하지못해 죄송합니다\n",
            "\n",
            "Q : 방금 전 에 홍합 탕 주문 한 거 지금 취소 가능한 거 맞죠\n",
            "A : 네 주문 하신 홍합 탕 은 아직 조리 전이 라 취소 가능합니다\n",
            "\n",
            "Q : 매 운무 뼈 닭발 롯데 주유소 로 주문 한 거 아직 안 받았는데 취소 해도 되는 거 죠\n",
            "A : 아니요 이미 접수 후 조리 시작 하여 취소 는 어렵습니다\n",
            "\n",
            "Q : 주 문 한 걸 취소 하려면 주 문서 가 필요한거죠\n",
            "A : 네 맞습니다 주 문서 가 필요합니다\n",
            "\n",
            "Q : 멸치 볶음 만 취소 할 수 있죠\n",
            "A : 네 멸치 볶음 만 취소 할 수 있습니다\n",
            "\n",
            "Q : 롯데 주유소 로 매 운무 뼈 닭발 주문 한 거 아직 안 받았는데 취소 해도 되는 거 죠\n",
            "A : 네 현재 접수 단계 로 주문 취소 가능합니다\n",
            "\n",
            "Q : 주 문서 만 있으면 취소 가 된다는거에요\n",
            "A : 네 주 문서 만 있으면 취소 가 됩니다\n",
            "\n",
            "Q : 순두부 백반 취소 된 거 맞죠\n",
            "A : 네 순두부 백반 취소 되었습니다\n",
            "\n"
          ]
        }
      ]
    },
    {
      "cell_type": "code",
      "source": [
        "# 질문과 대답 문장들을 하나로 합침\n",
        "sentences = []\n",
        "sentences.extend(question)\n",
        "sentences.extend(answer)\n",
        "\n",
        "words = []\n",
        "\n",
        "# 단어들의 배열 생성\n",
        "for sentence in sentences:\n",
        "    for word in sentence.split():\n",
        "        words.append(word)\n",
        "\n",
        "# 길이가 0인 단어는 삭제\n",
        "words = [word for word in words if len(word) > 0]\n",
        "\n",
        "# 중복된 단어 삭제\n",
        "words = list(set(words))\n",
        "\n",
        "# 제일 앞에 태그 단어 삽입\n",
        "words[:0] = [PAD, STA, END, OOV]"
      ],
      "metadata": {
        "id": "N2Jj7rmVkmRN"
      },
      "execution_count": 11,
      "outputs": []
    },
    {
      "cell_type": "code",
      "source": [
        "# 단어와 인덱스의 딕셔너리 생성\n",
        "word_to_index = {word: index for index, word in enumerate(words)}\n",
        "index_to_word = {index: word for index, word in enumerate(words)}"
      ],
      "metadata": {
        "id": "45qr_I7RknZs"
      },
      "execution_count": 12,
      "outputs": []
    },
    {
      "cell_type": "code",
      "source": [
        "# 문장을 인덱스로 변환\n",
        "def convert_text_to_index(sentences, vocabulary, type): \n",
        "    \n",
        "    sentences_index = []\n",
        "    \n",
        "    # 모든 문장에 대해서 반복\n",
        "    for sentence in sentences:\n",
        "        sentence_index = []\n",
        "        \n",
        "        # 디코더 입력일 경우 맨 앞에 START 태그 추가\n",
        "        if type == DECODER_INPUT:\n",
        "            sentence_index.extend([vocabulary[STA]])\n",
        "        \n",
        "        # 문장의 단어들을 띄어쓰기로 분리\n",
        "        for word in sentence.split():\n",
        "            if vocabulary.get(word) is not None:\n",
        "                # 사전에 있는 단어면 해당 인덱스를 추가\n",
        "                sentence_index.extend([vocabulary[word]])\n",
        "            else:\n",
        "                # 사전에 없는 단어면 OOV 인덱스를 추가\n",
        "                sentence_index.extend([vocabulary[OOV]])\n",
        "\n",
        "        # 최대 길이 검사\n",
        "        if type == DECODER_TARGET:\n",
        "            # 디코더 목표일 경우 맨 뒤에 END 태그 추가\n",
        "            if len(sentence_index) >= max_sequences:\n",
        "                sentence_index = sentence_index[:max_sequences-1] + [vocabulary[END]]\n",
        "            else:\n",
        "                sentence_index += [vocabulary[END]]\n",
        "        else:\n",
        "            if len(sentence_index) > max_sequences:\n",
        "                sentence_index = sentence_index[:max_sequences]\n",
        "            \n",
        "        # 최대 길이에 없는 공간은 패딩 인덱스로 채움\n",
        "        sentence_index += (max_sequences - len(sentence_index)) * [vocabulary[PAD]]\n",
        "        \n",
        "        # 문장의 인덱스 배열을 추가\n",
        "        sentences_index.append(sentence_index)\n",
        "\n",
        "    return np.asarray(sentences_index)"
      ],
      "metadata": {
        "id": "11HXJs_7ko73"
      },
      "execution_count": 13,
      "outputs": []
    },
    {
      "cell_type": "code",
      "source": [
        "# 인코더 입력 인덱스 변환\n",
        "x_encoder = convert_text_to_index(question, word_to_index, ENCODER_INPUT)\n",
        "\n",
        "# 첫 번째 인코더 입력 출력 (12시 땡)\n",
        "x_encoder[0]"
      ],
      "metadata": {
        "colab": {
          "base_uri": "https://localhost:8080/"
        },
        "id": "gE6oSUVPksNE",
        "outputId": "f7da33d5-2777-44ed-c58e-b7a23738f5d2"
      },
      "execution_count": 14,
      "outputs": [
        {
          "output_type": "execute_result",
          "data": {
            "text/plain": [
              "array([4404,  973, 3826,  776, 2528,  168,  516, 4317,    0,    0,    0,\n",
              "          0,    0,    0,    0,    0,    0,    0,    0,    0,    0,    0,\n",
              "          0,    0,    0,    0,    0,    0,    0,    0])"
            ]
          },
          "metadata": {},
          "execution_count": 14
        }
      ]
    },
    {
      "cell_type": "code",
      "source": [
        "# 디코더 입력 인덱스 변환\n",
        "x_decoder = convert_text_to_index(answer, word_to_index, DECODER_INPUT)\n",
        "\n",
        "# 첫 번째 디코더 입력 출력 (START 하루 가 또 가네요)\n",
        "x_decoder[0]"
      ],
      "metadata": {
        "colab": {
          "base_uri": "https://localhost:8080/"
        },
        "id": "S3Mh_dMdktRK",
        "outputId": "aaea48b2-d42e-4049-b3d0-1567aa4b20f6"
      },
      "execution_count": 15,
      "outputs": [
        {
          "output_type": "execute_result",
          "data": {
            "text/plain": [
              "array([   1, 1316, 4404,  973, 3826,  776, 2528,  168, 3753,  378, 2779,\n",
              "          0,    0,    0,    0,    0,    0,    0,    0,    0,    0,    0,\n",
              "          0,    0,    0,    0,    0,    0,    0,    0])"
            ]
          },
          "metadata": {},
          "execution_count": 15
        }
      ]
    },
    {
      "cell_type": "code",
      "source": [
        "# 디코더 목표 인덱스 변환\n",
        "y_decoder = convert_text_to_index(answer, word_to_index, DECODER_TARGET)\n",
        "\n",
        "# 첫 번째 디코더 목표 출력 (하루 가 또 가네요 END)\n",
        "y_decoder[0]"
      ],
      "metadata": {
        "colab": {
          "base_uri": "https://localhost:8080/"
        },
        "id": "CSv8yey0ku-V",
        "outputId": "aeed4bec-065b-46df-9e64-2ffebba1cb49"
      },
      "execution_count": 16,
      "outputs": [
        {
          "output_type": "execute_result",
          "data": {
            "text/plain": [
              "array([1316, 4404,  973, 3826,  776, 2528,  168, 3753,  378, 2779,    2,\n",
              "          0,    0,    0,    0,    0,    0,    0,    0,    0,    0,    0,\n",
              "          0,    0,    0,    0,    0,    0,    0,    0])"
            ]
          },
          "metadata": {},
          "execution_count": 16
        }
      ]
    },
    {
      "cell_type": "code",
      "source": [
        "# 원핫인코딩 초기화\n",
        "one_hot_data = np.zeros((len(y_decoder), max_sequences, len(words)))\n",
        "\n",
        "# 디코더 목표를 원핫인코딩으로 변환\n",
        "# 학습시 입력은 인덱스이지만, 출력은 원핫인코딩 형식임\n",
        "for i, sequence in enumerate(y_decoder):\n",
        "    for j, index in enumerate(sequence):\n",
        "        one_hot_data[i, j, index] = 1\n",
        "\n",
        "# 디코더 목표 설정\n",
        "y_decoder = one_hot_data\n",
        "\n",
        "# 첫 번째 디코더 목표 출력\n",
        "y_decoder[0]"
      ],
      "metadata": {
        "colab": {
          "base_uri": "https://localhost:8080/"
        },
        "id": "CJkjQ_O7kvvV",
        "outputId": "e267c929-7b92-411e-f002-f8d2da02b248"
      },
      "execution_count": 17,
      "outputs": [
        {
          "output_type": "execute_result",
          "data": {
            "text/plain": [
              "array([[0., 0., 0., ..., 0., 0., 0.],\n",
              "       [0., 0., 0., ..., 0., 0., 0.],\n",
              "       [0., 0., 0., ..., 0., 0., 0.],\n",
              "       ...,\n",
              "       [1., 0., 0., ..., 0., 0., 0.],\n",
              "       [1., 0., 0., ..., 0., 0., 0.],\n",
              "       [1., 0., 0., ..., 0., 0., 0.]])"
            ]
          },
          "metadata": {},
          "execution_count": 17
        }
      ]
    },
    {
      "cell_type": "code",
      "source": [
        "#--------------------------------------------\n",
        "# 훈련 모델 인코더 정의\n",
        "#--------------------------------------------\n",
        "\n",
        "# 입력 문장의 인덱스 시퀀스를 입력으로 받음\n",
        "encoder_inputs = layers.Input(shape=(None,))\n",
        "\n",
        "# 임베딩 레이어\n",
        "encoder_outputs = layers.Embedding(len(words), embedding_dim)(encoder_inputs)\n",
        "\n",
        "# return_state가 True면 상태값 리턴\n",
        "# LSTM은 state_h(hidden state)와 state_c(cell state) 2개의 상태 존재\n",
        "encoder_outputs, state_h, state_c = layers.LSTM(lstm_hidden_dim,\n",
        "                                                dropout=0.1,\n",
        "                                                recurrent_dropout=0.5,\n",
        "                                                return_state=True)(encoder_outputs)\n",
        "\n",
        "# 히든 상태와 셀 상태를 하나로 묶음\n",
        "encoder_states = [state_h, state_c]\n",
        "\n",
        "\n",
        "\n",
        "#--------------------------------------------\n",
        "# 훈련 모델 디코더 정의\n",
        "#--------------------------------------------\n",
        "\n",
        "# 목표 문장의 인덱스 시퀀스를 입력으로 받음\n",
        "decoder_inputs = layers.Input(shape=(None,))\n",
        "\n",
        "# 임베딩 레이어\n",
        "decoder_embedding = layers.Embedding(len(words), embedding_dim)\n",
        "decoder_outputs = decoder_embedding(decoder_inputs)\n",
        "\n",
        "# 인코더와 달리 return_sequences를 True로 설정하여 모든 타임 스텝 출력값 리턴\n",
        "# 모든 타임 스텝의 출력값들을 다음 레이어의 Dense()로 처리하기 위함\n",
        "decoder_lstm = layers.LSTM(lstm_hidden_dim,\n",
        "                           dropout=0.1,\n",
        "                           recurrent_dropout=0.5,\n",
        "                           return_state=True,\n",
        "                           return_sequences=True)\n",
        "\n",
        "# initial_state를 인코더의 상태로 초기화\n",
        "decoder_outputs, _, _ = decoder_lstm(decoder_outputs,\n",
        "                                     initial_state=encoder_states)\n",
        "\n",
        "# 단어의 개수만큼 노드의 개수를 설정하여 원핫 형식으로 각 단어 인덱스를 출력\n",
        "decoder_dense = layers.Dense(len(words), activation='softmax')\n",
        "decoder_outputs = decoder_dense(decoder_outputs)\n",
        "\n",
        "\n",
        "\n",
        "#--------------------------------------------\n",
        "# 훈련 모델 정의\n",
        "#--------------------------------------------\n",
        "\n",
        "# 입력과 출력으로 함수형 API 모델 생성\n",
        "model = models.Model([encoder_inputs, decoder_inputs], decoder_outputs)\n",
        "\n",
        "# 학습 방법 설정\n",
        "model.compile(optimizer='rmsprop',\n",
        "              loss='categorical_crossentropy',\n",
        "              metrics=['acc'])    "
      ],
      "metadata": {
        "colab": {
          "base_uri": "https://localhost:8080/"
        },
        "id": "49qaCMrIkwnN",
        "outputId": "0b8d48cd-fbef-45f7-c356-49f5b5ca1de6"
      },
      "execution_count": 18,
      "outputs": [
        {
          "output_type": "stream",
          "name": "stdout",
          "text": [
            "WARNING:tensorflow:Layer lstm will not use cuDNN kernels since it doesn't meet the criteria. It will use a generic GPU kernel as fallback when running on GPU.\n",
            "WARNING:tensorflow:Layer lstm_1 will not use cuDNN kernels since it doesn't meet the criteria. It will use a generic GPU kernel as fallback when running on GPU.\n"
          ]
        }
      ]
    },
    {
      "cell_type": "code",
      "source": [
        "#--------------------------------------------\n",
        "#  예측 모델 인코더 정의\n",
        "#--------------------------------------------\n",
        "\n",
        "# 훈련 모델의 인코더 상태를 사용하여 예측 모델 인코더 설정\n",
        "encoder_model = models.Model(encoder_inputs, encoder_states)\n",
        "\n",
        "\n",
        "\n",
        "#--------------------------------------------\n",
        "# 예측 모델 디코더 정의\n",
        "#--------------------------------------------\n",
        "\n",
        "# 예측시에는 훈련시와 달리 타임 스텝을 한 단계씩 수행\n",
        "# 매번 이전 디코더 상태를 입력으로 받아서 새로 설정\n",
        "decoder_state_input_h = layers.Input(shape=(lstm_hidden_dim,))\n",
        "decoder_state_input_c = layers.Input(shape=(lstm_hidden_dim,))\n",
        "decoder_states_inputs = [decoder_state_input_h, decoder_state_input_c]    \n",
        "\n",
        "# 임베딩 레이어\n",
        "decoder_outputs = decoder_embedding(decoder_inputs)\n",
        "\n",
        "# LSTM 레이어\n",
        "decoder_outputs, state_h, state_c = decoder_lstm(decoder_outputs,\n",
        "                                                 initial_state=decoder_states_inputs)\n",
        "\n",
        "# 히든 상태와 셀 상태를 하나로 묶음\n",
        "decoder_states = [state_h, state_c]\n",
        "\n",
        "# Dense 레이어를 통해 원핫 형식으로 각 단어 인덱스를 출력\n",
        "decoder_outputs = decoder_dense(decoder_outputs)\n",
        "\n",
        "# 예측 모델 디코더 설정\n",
        "decoder_model = models.Model([decoder_inputs] + decoder_states_inputs,\n",
        "                      [decoder_outputs] + decoder_states)"
      ],
      "metadata": {
        "id": "3RUr51lMkzgv"
      },
      "execution_count": 19,
      "outputs": []
    },
    {
      "cell_type": "code",
      "source": [
        "# 인덱스를 문장으로 변환\n",
        "def convert_index_to_text(indexs, vocabulary): \n",
        "    \n",
        "    sentence = ''\n",
        "    \n",
        "    # 모든 문장에 대해서 반복\n",
        "    for index in indexs:\n",
        "        if index == END_INDEX:\n",
        "            # 종료 인덱스면 중지\n",
        "            break;\n",
        "        elif vocabulary.get(index) is not None:\n",
        "            # 사전에 있는 인덱스면 해당 단어를 추가\n",
        "            sentence += vocabulary[index]\n",
        "        else:\n",
        "            # 사전에 없는 인덱스면 OOV 단어를 추가\n",
        "            sentence += vocabulary[OOV_INDEX]\n",
        "            \n",
        "        # 빈칸 추가\n",
        "        sentence += ' '\n",
        "\n",
        "    return sentence"
      ],
      "metadata": {
        "id": "ISyx3nL0k6x1"
      },
      "execution_count": 20,
      "outputs": []
    },
    {
      "cell_type": "code",
      "source": [
        "# 에폭 반복\n",
        "for epoch in range(10):\n",
        "    print('Total Epoch :', epoch + 1)\n",
        "\n",
        "    # 훈련 시작\n",
        "    history = model.fit([x_encoder, x_decoder],\n",
        "                        y_decoder,\n",
        "                        epochs=30,\n",
        "                        batch_size=64,\n",
        "                        verbose=0)\n",
        "    \n",
        "    # 정확도와 손실 출력\n",
        "    print('accuracy :', history.history['acc'][-1])\n",
        "    print('loss :', history.history['loss'][-1])\n",
        "    \n",
        "    # 문장 예측 테스트\n",
        "    # (3 박 4일 놀러 가고 싶다) -> (여행 은 언제나 좋죠)\n",
        "    input_encoder = x_encoder[2].reshape(1, x_encoder[2].shape[0])\n",
        "    input_decoder = x_decoder[2].reshape(1, x_decoder[2].shape[0])\n",
        "    results = model.predict([input_encoder, input_decoder])\n",
        "    \n",
        "    # 결과의 원핫인코딩 형식을 인덱스로 변환\n",
        "    # 1축을 기준으로 가장 높은 값의 위치를 구함\n",
        "    indexs = np.argmax(results[0], 1) \n",
        "    \n",
        "    # 인덱스를 문장으로 변환\n",
        "    sentence = convert_index_to_text(indexs, index_to_word)\n",
        "    print(sentence)\n",
        "    print()"
      ],
      "metadata": {
        "colab": {
          "base_uri": "https://localhost:8080/"
        },
        "id": "-1aeCzWsk8WQ",
        "outputId": "764341c7-09ee-4de1-f5f1-63fce04a22da"
      },
      "execution_count": null,
      "outputs": [
        {
          "output_type": "stream",
          "name": "stdout",
          "text": [
            "Total Epoch : 1\n"
          ]
        }
      ]
    },
    {
      "cell_type": "code",
      "source": [
        "# 모델 저장\n",
        "encoder_model.save('/content/drive/MyDrive/Colab Notebooks/ssac/nlp/model/encoder.h5')\n",
        "decoder_model.save('/content/drive/MyDrive/Colab Notebooks/ssac/nlp/model/decoder.h5')\n",
        "\n",
        "# 인덱스 저장\n",
        "with open('/content/drive/MyDrive/Colab Notebooks/ssac/nlp/tokenizer/word_index.pkl', 'wb') as f:\n",
        "    pickle.dump(word_to_index, f, pickle.HIGHEST_PROTOCOL)\n",
        "with open('/content/drive/MyDrive/Colab Notebooks/ssac/nlp/tokenizer/index_to_word.pkl', 'wb') as f:\n",
        "    pickle.dump(index_to_word, f, pickle.HIGHEST_PROTOCOL)    "
      ],
      "metadata": {
        "colab": {
          "base_uri": "https://localhost:8080/"
        },
        "id": "C5RbD0WTk-F0",
        "outputId": "f033d5c7-b94f-49f2-b5c9-25fbce136ae5"
      },
      "execution_count": 22,
      "outputs": [
        {
          "output_type": "stream",
          "name": "stdout",
          "text": [
            "WARNING:tensorflow:Compiled the loaded model, but the compiled metrics have yet to be built. `model.compile_metrics` will be empty until you train or evaluate the model.\n",
            "WARNING:tensorflow:Compiled the loaded model, but the compiled metrics have yet to be built. `model.compile_metrics` will be empty until you train or evaluate the model.\n"
          ]
        }
      ]
    },
    {
      "cell_type": "code",
      "source": [
        "# 모델 파일 로드\n",
        "encoder_model2 = models.load_model('/content/drive/MyDrive/Colab Notebooks/ssac/nlp/model/encoder.h5')\n",
        "decoder_model2 = models.load_model('/content/drive/MyDrive/Colab Notebooks/ssac/nlp/model/decoder.h5')\n",
        "\n",
        "# 인덱스 파일 로드\n",
        "with open('/content/drive/MyDrive/Colab Notebooks/ssac/nlp/tokenizer/word_index.pkl', 'rb') as f:\n",
        "    word_to_index = pickle.load(f)\n",
        "with open('/content/drive/MyDrive/Colab Notebooks/ssac/nlp/tokenizer/index_to_word.pkl', 'rb') as f:\n",
        "    index_to_word = pickle.load(f)   "
      ],
      "metadata": {
        "colab": {
          "base_uri": "https://localhost:8080/"
        },
        "id": "y6DOBb8Qppjp",
        "outputId": "003aac1e-5c61-4fe7-fd3d-b3044d327db5"
      },
      "execution_count": 23,
      "outputs": [
        {
          "output_type": "stream",
          "name": "stdout",
          "text": [
            "WARNING:tensorflow:Layer lstm will not use cuDNN kernels since it doesn't meet the criteria. It will use a generic GPU kernel as fallback when running on GPU.\n",
            "WARNING:tensorflow:No training configuration found in the save file, so the model was *not* compiled. Compile it manually.\n",
            "WARNING:tensorflow:Layer lstm_1 will not use cuDNN kernels since it doesn't meet the criteria. It will use a generic GPU kernel as fallback when running on GPU.\n",
            "WARNING:tensorflow:No training configuration found in the save file, so the model was *not* compiled. Compile it manually.\n"
          ]
        }
      ]
    },
    {
      "cell_type": "code",
      "source": [
        "# 예측을 위한 입력 생성\n",
        "def make_predict_input(sentence):\n",
        "\n",
        "    sentences = []\n",
        "    sentences.append(sentence)\n",
        "    sentences = pos_tag(sentences)\n",
        "    input_seq = convert_text_to_index(sentences, word_to_index, ENCODER_INPUT)\n",
        "    \n",
        "    return input_seq"
      ],
      "metadata": {
        "id": "Ods0aWJdp4q7"
      },
      "execution_count": 24,
      "outputs": []
    },
    {
      "cell_type": "code",
      "source": [
        "# 텍스트 생성\n",
        "def generate_text(input_seq):\n",
        "    \n",
        "    # 입력을 인코더에 넣어 마지막 상태 구함\n",
        "    states = encoder_model2.predict(input_seq)\n",
        "\n",
        "    # 목표 시퀀스 초기화\n",
        "    target_seq = np.zeros((1, 1))\n",
        "    \n",
        "    # 목표 시퀀스의 첫 번째에 <START> 태그 추가\n",
        "    target_seq[0, 0] = STA_INDEX\n",
        "    \n",
        "    # 인덱스 초기화\n",
        "    indexs = []\n",
        "    \n",
        "    # 디코더 타임 스텝 반복\n",
        "    while 1:\n",
        "        # 디코더로 현재 타임 스텝 출력 구함\n",
        "        # 처음에는 인코더 상태를, 다음부터 이전 디코더 상태로 초기화\n",
        "        decoder_outputs, state_h, state_c = decoder_model2.predict(\n",
        "                                                [target_seq] + states)\n",
        "\n",
        "        # 결과의 원핫인코딩 형식을 인덱스로 변환\n",
        "        index = np.argmax(decoder_outputs[0, 0, :])\n",
        "        indexs.append(index)\n",
        "        \n",
        "        # 종료 검사\n",
        "        if index == END_INDEX or len(indexs) >= max_sequences:\n",
        "            break\n",
        "\n",
        "        # 목표 시퀀스를 바로 이전의 출력으로 설정\n",
        "        target_seq = np.zeros((1, 1))\n",
        "        target_seq[0, 0] = index\n",
        "        \n",
        "        # 디코더의 이전 상태를 다음 디코더 예측에 사용\n",
        "        states = [state_h, state_c]\n",
        "\n",
        "    # 인덱스를 문장으로 변환\n",
        "    sentence = convert_index_to_text(indexs, index_to_word)\n",
        "        \n",
        "    return sentence"
      ],
      "metadata": {
        "id": "xeqhzXwVp7ez"
      },
      "execution_count": 25,
      "outputs": []
    },
    {
      "cell_type": "code",
      "source": [
        "generate_text(make_predict_input('문래동까지 배달이 얼마나 걸리나요?'))"
      ],
      "metadata": {
        "colab": {
          "base_uri": "https://localhost:8080/",
          "height": 36
        },
        "id": "29oS4LbiqDAi",
        "outputId": "1ba1d11a-6625-4947-adc8-962d86f90c5b"
      },
      "execution_count": 27,
      "outputs": [
        {
          "output_type": "execute_result",
          "data": {
            "text/plain": [
              "'배달 비는 3000원 입니다 '"
            ],
            "application/vnd.google.colaboratory.intrinsic+json": {
              "type": "string"
            }
          },
          "metadata": {},
          "execution_count": 27
        }
      ]
    },
    {
      "cell_type": "code",
      "source": [
        ""
      ],
      "metadata": {
        "id": "R5KLg1SjqMKa"
      },
      "execution_count": null,
      "outputs": []
    }
  ]
}